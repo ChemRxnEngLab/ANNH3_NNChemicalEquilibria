{
 "cells": [
  {
   "cell_type": "markdown",
   "id": "78e6662e",
   "metadata": {},
   "source": [
    "# Auswertung Laufzeit"
   ]
  },
  {
   "cell_type": "markdown",
   "id": "e2440533",
   "metadata": {},
   "source": [
    "#### Importe"
   ]
  },
  {
   "cell_type": "code",
   "execution_count": 1,
   "id": "1bc29a37",
   "metadata": {},
   "outputs": [],
   "source": [
    "import torch\n",
    "from torch import nn\n",
    "import numpy as np\n",
    "import matplotlib.pyplot as plt\n",
    "import timeit\n",
    "from pathlib import Path\n",
    "from scipy.optimize import curve_fit"
   ]
  },
  {
   "cell_type": "markdown",
   "id": "82fa20fa",
   "metadata": {},
   "source": [
    "#### Laden der Laufzeit für klassische Berechnung"
   ]
  },
  {
   "cell_type": "code",
   "execution_count": 2,
   "id": "13a0fd06",
   "metadata": {},
   "outputs": [],
   "source": [
    "calc_time_data_file = Path.cwd().parent / 'data' / 'pred_time.npz'\n",
    "calc_data = np.load(calc_time_data_file)\n",
    "\n",
    "calc_time_1 = np.array(calc_data['pred_time_1'])\n",
    "calc_time_100 = np.array(calc_data['pred_time_100'])\n",
    "calc_time_500 = np.array(calc_data['pred_time_500'])\n",
    "calc_time_1000 = np.array(calc_data['pred_time_1000'])\n",
    "calc_time_5000 = np.array(calc_data['pred_time_5000'])\n",
    "calc_time_10000 = np.array(calc_data['pred_time_10000'])\n",
    "\n",
    "calc_time = [calc_time_1, calc_time_100, calc_time_500, calc_time_1000, calc_time_5000, calc_time_10000]"
   ]
  },
  {
   "cell_type": "markdown",
   "id": "949d41a3",
   "metadata": {},
   "source": [
    "#### Laden der Laufzeit für Vorhersage mit aNN"
   ]
  },
  {
   "cell_type": "code",
   "execution_count": 3,
   "id": "0d328d0c",
   "metadata": {},
   "outputs": [],
   "source": [
    "ann_time_data_file = Path.cwd().parent / 'data' / 'ann_time.npz'\n",
    "ann_data = np.load(ann_time_data_file)\n",
    "\n",
    "ann_time_100 = np.array(ann_data['ann_time_100'])\n",
    "ann_time_1000 = np.array(ann_data['ann_time_1000'])\n",
    "ann_time_ztsd = np.array(ann_data['ann_time_10000'])\n",
    "ann_time_zwtsd = np.array(ann_data['ann_time_20000'])\n",
    "ann_time_htsd = np.array(ann_data['ann_time_htsd'])\n",
    "\n",
    "ann_time = [ann_time_100, ann_time_1000, ann_time_ztsd, ann_time_zwtsd, ann_time_htsd]"
   ]
  },
  {
   "cell_type": "markdown",
   "id": "263cad3f",
   "metadata": {},
   "source": [
    "#### Kurve durch Datenpunkte legen - Berechnung"
   ]
  },
  {
   "cell_type": "code",
   "execution_count": 4,
   "id": "cbcdac96",
   "metadata": {},
   "outputs": [
    {
     "ename": "ValueError",
     "evalue": "operands could not be broadcast together with shapes (3,) (6,) ",
     "output_type": "error",
     "traceback": [
      "\u001b[1;31m---------------------------------------------------------------------------\u001b[0m",
      "\u001b[1;31mValueError\u001b[0m                                Traceback (most recent call last)",
      "Cell \u001b[1;32mIn[4], line 7\u001b[0m\n\u001b[0;32m      4\u001b[0m     \u001b[38;5;28;01mreturn\u001b[39;00m y\n\u001b[0;32m      6\u001b[0m \u001b[38;5;66;03m# fit curve\u001b[39;00m\n\u001b[1;32m----> 7\u001b[0m popt,_ \u001b[38;5;241m=\u001b[39m \u001b[43mcurve_fit\u001b[49m\u001b[43m(\u001b[49m\u001b[43mobjective\u001b[49m\u001b[43m,\u001b[49m\u001b[43m \u001b[49m\u001b[43m[\u001b[49m\u001b[38;5;241;43m1\u001b[39;49m\u001b[43m,\u001b[49m\u001b[43m \u001b[49m\u001b[38;5;241;43m100\u001b[39;49m\u001b[43m,\u001b[49m\u001b[43m \u001b[49m\u001b[38;5;241;43m1000\u001b[39;49m\u001b[43m]\u001b[49m\u001b[43m,\u001b[49m\u001b[43m \u001b[49m\u001b[43mcalc_time\u001b[49m\u001b[43m)\u001b[49m\n\u001b[0;32m      9\u001b[0m a,b \u001b[38;5;241m=\u001b[39m popt\n\u001b[0;32m     10\u001b[0m x_fit_calc \u001b[38;5;241m=\u001b[39m np\u001b[38;5;241m.\u001b[39mlinspace(\u001b[38;5;241m0\u001b[39m, \u001b[38;5;241m100000\u001b[39m, \u001b[38;5;241m1000\u001b[39m)\n",
      "File \u001b[1;32m~\\anaconda3\\envs\\BA\\lib\\site-packages\\scipy\\optimize\\_minpack_py.py:859\u001b[0m, in \u001b[0;36mcurve_fit\u001b[1;34m(f, xdata, ydata, p0, sigma, absolute_sigma, check_finite, bounds, method, jac, full_output, **kwargs)\u001b[0m\n\u001b[0;32m    856\u001b[0m \u001b[38;5;28;01mif\u001b[39;00m ydata\u001b[38;5;241m.\u001b[39msize \u001b[38;5;241m!=\u001b[39m \u001b[38;5;241m1\u001b[39m \u001b[38;5;129;01mand\u001b[39;00m n \u001b[38;5;241m>\u001b[39m ydata\u001b[38;5;241m.\u001b[39msize:\n\u001b[0;32m    857\u001b[0m     \u001b[38;5;28;01mraise\u001b[39;00m \u001b[38;5;167;01mTypeError\u001b[39;00m(\u001b[38;5;124mf\u001b[39m\u001b[38;5;124m\"\u001b[39m\u001b[38;5;124mThe number of func parameters=\u001b[39m\u001b[38;5;132;01m{\u001b[39;00mn\u001b[38;5;132;01m}\u001b[39;00m\u001b[38;5;124m must not\u001b[39m\u001b[38;5;124m\"\u001b[39m\n\u001b[0;32m    858\u001b[0m                     \u001b[38;5;124mf\u001b[39m\u001b[38;5;124m\"\u001b[39m\u001b[38;5;124m exceed the number of data points=\u001b[39m\u001b[38;5;132;01m{\u001b[39;00mydata\u001b[38;5;241m.\u001b[39msize\u001b[38;5;132;01m}\u001b[39;00m\u001b[38;5;124m\"\u001b[39m)\n\u001b[1;32m--> 859\u001b[0m res \u001b[38;5;241m=\u001b[39m leastsq(func, p0, Dfun\u001b[38;5;241m=\u001b[39mjac, full_output\u001b[38;5;241m=\u001b[39m\u001b[38;5;241m1\u001b[39m, \u001b[38;5;241m*\u001b[39m\u001b[38;5;241m*\u001b[39mkwargs)\n\u001b[0;32m    860\u001b[0m popt, pcov, infodict, errmsg, ier \u001b[38;5;241m=\u001b[39m res\n\u001b[0;32m    861\u001b[0m ysize \u001b[38;5;241m=\u001b[39m \u001b[38;5;28mlen\u001b[39m(infodict[\u001b[38;5;124m'\u001b[39m\u001b[38;5;124mfvec\u001b[39m\u001b[38;5;124m'\u001b[39m])\n",
      "File \u001b[1;32m~\\anaconda3\\envs\\BA\\lib\\site-packages\\scipy\\optimize\\_minpack_py.py:413\u001b[0m, in \u001b[0;36mleastsq\u001b[1;34m(func, x0, args, Dfun, full_output, col_deriv, ftol, xtol, gtol, maxfev, epsfcn, factor, diag)\u001b[0m\n\u001b[0;32m    411\u001b[0m \u001b[38;5;28;01mif\u001b[39;00m \u001b[38;5;129;01mnot\u001b[39;00m \u001b[38;5;28misinstance\u001b[39m(args, \u001b[38;5;28mtuple\u001b[39m):\n\u001b[0;32m    412\u001b[0m     args \u001b[38;5;241m=\u001b[39m (args,)\n\u001b[1;32m--> 413\u001b[0m shape, dtype \u001b[38;5;241m=\u001b[39m \u001b[43m_check_func\u001b[49m\u001b[43m(\u001b[49m\u001b[38;5;124;43m'\u001b[39;49m\u001b[38;5;124;43mleastsq\u001b[39;49m\u001b[38;5;124;43m'\u001b[39;49m\u001b[43m,\u001b[49m\u001b[43m \u001b[49m\u001b[38;5;124;43m'\u001b[39;49m\u001b[38;5;124;43mfunc\u001b[39;49m\u001b[38;5;124;43m'\u001b[39;49m\u001b[43m,\u001b[49m\u001b[43m \u001b[49m\u001b[43mfunc\u001b[49m\u001b[43m,\u001b[49m\u001b[43m \u001b[49m\u001b[43mx0\u001b[49m\u001b[43m,\u001b[49m\u001b[43m \u001b[49m\u001b[43margs\u001b[49m\u001b[43m,\u001b[49m\u001b[43m \u001b[49m\u001b[43mn\u001b[49m\u001b[43m)\u001b[49m\n\u001b[0;32m    414\u001b[0m m \u001b[38;5;241m=\u001b[39m shape[\u001b[38;5;241m0\u001b[39m]\n\u001b[0;32m    416\u001b[0m \u001b[38;5;28;01mif\u001b[39;00m n \u001b[38;5;241m>\u001b[39m m:\n",
      "File \u001b[1;32m~\\anaconda3\\envs\\BA\\lib\\site-packages\\scipy\\optimize\\_minpack_py.py:26\u001b[0m, in \u001b[0;36m_check_func\u001b[1;34m(checker, argname, thefunc, x0, args, numinputs, output_shape)\u001b[0m\n\u001b[0;32m     24\u001b[0m \u001b[38;5;28;01mdef\u001b[39;00m \u001b[38;5;21m_check_func\u001b[39m(checker, argname, thefunc, x0, args, numinputs,\n\u001b[0;32m     25\u001b[0m                 output_shape\u001b[38;5;241m=\u001b[39m\u001b[38;5;28;01mNone\u001b[39;00m):\n\u001b[1;32m---> 26\u001b[0m     res \u001b[38;5;241m=\u001b[39m atleast_1d(\u001b[43mthefunc\u001b[49m\u001b[43m(\u001b[49m\u001b[38;5;241;43m*\u001b[39;49m\u001b[43m(\u001b[49m\u001b[43m(\u001b[49m\u001b[43mx0\u001b[49m\u001b[43m[\u001b[49m\u001b[43m:\u001b[49m\u001b[43mnuminputs\u001b[49m\u001b[43m]\u001b[49m\u001b[43m,\u001b[49m\u001b[43m)\u001b[49m\u001b[43m \u001b[49m\u001b[38;5;241;43m+\u001b[39;49m\u001b[43m \u001b[49m\u001b[43margs\u001b[49m\u001b[43m)\u001b[49m\u001b[43m)\u001b[49m)\n\u001b[0;32m     27\u001b[0m     \u001b[38;5;28;01mif\u001b[39;00m (output_shape \u001b[38;5;129;01mis\u001b[39;00m \u001b[38;5;129;01mnot\u001b[39;00m \u001b[38;5;28;01mNone\u001b[39;00m) \u001b[38;5;129;01mand\u001b[39;00m (shape(res) \u001b[38;5;241m!=\u001b[39m output_shape):\n\u001b[0;32m     28\u001b[0m         \u001b[38;5;28;01mif\u001b[39;00m (output_shape[\u001b[38;5;241m0\u001b[39m] \u001b[38;5;241m!=\u001b[39m \u001b[38;5;241m1\u001b[39m):\n",
      "File \u001b[1;32m~\\anaconda3\\envs\\BA\\lib\\site-packages\\scipy\\optimize\\_minpack_py.py:501\u001b[0m, in \u001b[0;36m_wrap_func.<locals>.func_wrapped\u001b[1;34m(params)\u001b[0m\n\u001b[0;32m    500\u001b[0m \u001b[38;5;28;01mdef\u001b[39;00m \u001b[38;5;21mfunc_wrapped\u001b[39m(params):\n\u001b[1;32m--> 501\u001b[0m     \u001b[38;5;28;01mreturn\u001b[39;00m \u001b[43mfunc\u001b[49m\u001b[43m(\u001b[49m\u001b[43mxdata\u001b[49m\u001b[43m,\u001b[49m\u001b[43m \u001b[49m\u001b[38;5;241;43m*\u001b[39;49m\u001b[43mparams\u001b[49m\u001b[43m)\u001b[49m\u001b[43m \u001b[49m\u001b[38;5;241;43m-\u001b[39;49m\u001b[43m \u001b[49m\u001b[43mydata\u001b[49m\n",
      "\u001b[1;31mValueError\u001b[0m: operands could not be broadcast together with shapes (3,) (6,) "
     ]
    }
   ],
   "source": [
    "# # objective function\n",
    "# def objective(x, a, b):\n",
    "#     y = a * (x**b)\n",
    "#     return y\n",
    "\n",
    "# # fit curve\n",
    "# popt,_ = curve_fit(objective, [1, 100, 1000], calc_time)\n",
    "\n",
    "# a,b = popt\n",
    "# x_fit_calc = np.linspace(0, 100000, 1000)\n",
    "# y_fit_calc = objective(x_fit_calc, a, b)"
   ]
  },
  {
   "cell_type": "markdown",
   "id": "1420a2d7",
   "metadata": {},
   "source": [
    "#### Kurve durch Datenpunkte legen - aNN"
   ]
  },
  {
   "cell_type": "code",
   "execution_count": null,
   "id": "839fc097",
   "metadata": {},
   "outputs": [],
   "source": [
    "# # objective function\n",
    "# def objective(x, a, b):\n",
    "#     y = a * (x**b)\n",
    "#     return y\n",
    "\n",
    "# # fit curve\n",
    "# popt,_ = curve_fit(objective, [100, 1000, 10000, 20000, 100000], ann_time)\n",
    "\n",
    "# a,b = popt\n",
    "# x_fit_ann = np.linspace(0, 100000, 1000)\n",
    "# y_fit_ann = objective(x_fit_ann, a, b)"
   ]
  },
  {
   "cell_type": "markdown",
   "id": "df4ac1a6",
   "metadata": {},
   "source": [
    "#### Plot Verlauf der Berechnungszeit"
   ]
  },
  {
   "cell_type": "code",
   "execution_count": 5,
   "id": "28493e6b",
   "metadata": {},
   "outputs": [
    {
     "data": {
      "image/png": "[encoded data removed]",
      "text/plain": [
       "<Figure size 640x480 with 1 Axes>"
      ]
     },
     "metadata": {},
     "output_type": "display_data"
    }
   ],
   "source": [
    "fig,ax = plt.subplots()\n",
    "\n",
    "ax.loglog([1, 100, 500, 1000, 5000, 10000], calc_time, 'x--', color ='cornflowerblue', label = 'calc')\n",
    "#ax.loglog(x_fit_calc, y_fit_calc, '-', color = 'rebeccapurple', label = ' calc fit')\n",
    "ax.loglog([100, 1000, 10000, 20000, 100000], ann_time, 'x', color = 'yellowgreen', label = 'aNN')\n",
    "#ax.loglog(x_fit_ann, y_fit_ann, '-', color = 'yellowgreen', label = 'ann fit')\n",
    "\n",
    "# ax.plot([1, 100, 1000], calc_time, 'x', color ='cornflowerblue', label = 'calc')\n",
    "# ax.plot(x_fit_calc, y_fit_calc, '-', color = 'rebeccapurple', label = 'calc fit')\n",
    "# ax.plot([100, 1000, 10000, 20000, 100000], ann_time, 'x', color = 'seagreen', label = 'aNN')\n",
    "#ax.plot(x_fit_ann, y_fit_ann, '-', color = 'yellowgreen', label = 'ann fit')\n",
    "\n",
    "ax.set(xlabel = '$Number of Datapoints$ / 1', ylabel = '$t$ / s')\n",
    "ax.tick_params(direction = 'in') #, length = 20, width = 3)\n",
    "ax.legend()\n",
    "#ax.legend(['$\\\\mathregular{R^2}$ = ', r2(xi_real,xi_pred)], markerscale=0)\n",
    "\n",
    "#plt.legend()\n",
    "#fig.suptitle(\"Parity Plot\")\n",
    "plt.tight_layout()\n",
    "plt.show()\n",
    "\n"
   ]
  },
  {
   "cell_type": "code",
   "execution_count": null,
   "id": "a836f4fb",
   "metadata": {},
   "outputs": [],
   "source": []
  }
 ],
 "metadata": {
  "kernelspec": {
   "display_name": "Python 3 (ipykernel)",
   "language": "python",
   "name": "python3"
  },
  "language_info": {
   "codemirror_mode": {
    "name": "ipython",
    "version": 3
   },
   "file_extension": ".py",
   "mimetype": "text/x-python",
   "name": "python",
   "nbconvert_exporter": "python",
   "pygments_lexer": "ipython3",
   "version": "3.10.9"
  }
 },
 "nbformat": 4,
 "nbformat_minor": 5
}
